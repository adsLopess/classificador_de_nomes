{
  "nbformat": 4,
  "nbformat_minor": 0,
  "metadata": {
    "colab": {
      "provenance": [],
      "authorship_tag": "ABX9TyNSROucONyQw6dSISK7pwl0",
      "include_colab_link": true
    },
    "kernelspec": {
      "name": "python3",
      "display_name": "Python 3"
    },
    "language_info": {
      "name": "python"
    }
  },
  "cells": [
    {
      "cell_type": "markdown",
      "metadata": {
        "id": "view-in-github",
        "colab_type": "text"
      },
      "source": [
        "<a href=\"https://colab.research.google.com/github/adsLopess/classificador_de_nomes/blob/main/classificador_de_nomes.ipynb\" target=\"_parent\"><img src=\"https://colab.research.google.com/assets/colab-badge.svg\" alt=\"Open In Colab\"/></a>"
      ]
    },
    {
      "cell_type": "markdown",
      "source": [
        "# **Classificador de nomes com os algoritmos: DecisionTreeClassifier + NaiveBayesClassifier**\n"
      ],
      "metadata": {
        "id": "IsIQPco_JPEz"
      }
    },
    {
      "cell_type": "markdown",
      "source": [
        "\n",
        "O Decision Tree Classifier é um algoritmo de aprendizagem **supervisionada** que cria um modelo de classificação a partir de um conjunto de dados de treinamento. O modelo é uma árvore de decisão, que consiste em um conjunto de nós e ramos. ***Cada nó representa uma pergunta ou condição, e cada ramo representa uma resposta ou ação***."
      ],
      "metadata": {
        "id": "NvqOrMyrM7Sl"
      }
    },
    {
      "cell_type": "markdown",
      "source": [
        "\n",
        "\n",
        "\n",
        "***Como funciona:***\n",
        "\n",
        "O algoritmo funciona construindo a árvore de decisão a partir do conjunto de dados de treinamento. O processo de construção começa com um nó raiz, que representa a categoria de classificação mais geral. Em seguida, o algoritmo itera sobre o conjunto de dados de treinamento, procurando por uma pergunta ou condição que possa ser usada para dividir os dados em duas categorias mais específicas.\n",
        "\n",
        "O algoritmo continua a iterar até que todos os dados estejam divididos em categorias únicas. As categorias mais específicas são as folhas da árvore de decisão.\n",
        "\n",
        "<img alt=\"Natural and artificial neurons\" width=\"500\" src=\"https://www.zigya.com/blog/wp-content/uploads/2021/01/dig10.png\" />"
      ],
      "metadata": {
        "id": "o8ODijiwIfO_"
      }
    },
    {
      "cell_type": "markdown",
      "source": [
        "**Exemplo**\n",
        "\n",
        "Considere o seguinte conjunto de dados de treinamento:\n",
        "\n",
        "Nome | Gênero\n",
        "---|---\n",
        "Ana | Feminino\n",
        "João | Masculino\n",
        "Maria | Feminino\n",
        "Pedro | Masculino\n",
        "\n",
        "Este conjunto de dados consiste em quatro nomes, cada um rotulado com seu gênero. O algoritmo pode ser usado para construir uma árvore de decisão que possa ser usada para classificar novos nomes como masculinos ou femininos.\n",
        "\n",
        "O algoritmo começaria com um nó raiz que representa as duas categorias de gênero, masculino e feminino. Em seguida, o algoritmo procuraria por uma pergunta ou condição que pudesse ser usada para dividir os dados em duas categorias mais específicas, uma **feature**.\n",
        "\n",
        "Uma pergunta possível seria: **\"O nome começa ou termina com a letra A?\"**. Esta pergunta dividiria os dados em duas categorias:\n",
        "\n",
        "* Nomes que começam ou terminam a letra A: Ana, Maria\n",
        "* Nomes que não começam e não terminam com a letra A: João, Pedro\n",
        "\n",
        "O algoritmo continuaria a iterar até que todos os dados estivessem divididos em categorias únicas. No exemplo, o algoritmo chegaria a uma árvore de decisão com a seguinte estrutura:\n",
        "\n",
        "***Nome começa com a letra A?***\n",
        "\n",
        "    Sim?: Feminino\n",
        "    Não?: Masculino"
      ],
      "metadata": {
        "id": "4u20LN51M8Jk"
      }
    },
    {
      "cell_type": "markdown",
      "source": [
        "## ****Importando as bibliotecas****"
      ],
      "metadata": {
        "id": "q1KjwRd4PtnC"
      }
    },
    {
      "cell_type": "code",
      "execution_count": null,
      "metadata": {
        "id": "gYHdMn4xdg_c",
        "colab": {
          "base_uri": "https://localhost:8080/"
        },
        "outputId": "cdcdd591-14b3-4b75-b9c8-d9d61759cf0d"
      },
      "outputs": [
        {
          "output_type": "stream",
          "name": "stderr",
          "text": [
            "[nltk_data] Downloading package names to /root/nltk_data...\n",
            "[nltk_data]   Unzipping corpora/names.zip.\n"
          ]
        },
        {
          "output_type": "execute_result",
          "data": {
            "text/plain": [
              "True"
            ]
          },
          "metadata": {},
          "execution_count": 1
        }
      ],
      "source": [
        "import nltk\n",
        "from nltk.corpus import names\n",
        "from random import shuffle\n",
        "\n",
        "nltk.download('names') # Baixando o conjunto de dados de nomes já etiquetados"
      ]
    },
    {
      "cell_type": "markdown",
      "source": [
        "## ****Coletando os dados para cada categoria/genêro****"
      ],
      "metadata": {
        "id": "jMnscCFPPyp6"
      }
    },
    {
      "cell_type": "code",
      "source": [
        "tagged_names = []\n",
        "for name in names.words('female.txt'):\n",
        "    tagged_names.append((name, 'feminino'))\n",
        "\n",
        "for name in names.words('male.txt'):\n",
        "    tagged_names.append((name, 'masculino'))\n",
        "\n",
        "shuffle(tagged_names)"
      ],
      "metadata": {
        "id": "4CCaJrZmeETg"
      },
      "execution_count": null,
      "outputs": []
    },
    {
      "cell_type": "markdown",
      "source": [
        "## ****Função para extrair características do nome para classificação de gênero****"
      ],
      "metadata": {
        "id": "ASHxmMhEP3Bc"
      }
    },
    {
      "cell_type": "code",
      "source": [
        "def extract_features(name):\n",
        "    features = {\n",
        "        'primeira_letra': name[0],\n",
        "        'ultima_letra': name[-1]\n",
        "\n",
        "    }\n",
        "    return features"
      ],
      "metadata": {
        "id": "0uBGX_J9eGRn"
      },
      "execution_count": null,
      "outputs": []
    },
    {
      "cell_type": "markdown",
      "source": [
        "## ****Lista de características para cada nome e divisão dos dados em treinamento e teste****"
      ],
      "metadata": {
        "id": "6LVA53udQ53S"
      }
    },
    {
      "cell_type": "code",
      "source": [
        "featuresets = []\n",
        "for (name, category) in tagged_names:\n",
        "    features = extract_features(name)\n",
        "    featuresets.append((features, category))\n",
        "\n",
        "\n",
        "# Divide os dados em dois conjuntos: treinamento e teste.\n",
        "training_set = featuresets[600:]\n",
        "testing_set = featuresets[:600]"
      ],
      "metadata": {
        "id": "ZuLjmNqqJ9_H"
      },
      "execution_count": null,
      "outputs": []
    },
    {
      "cell_type": "markdown",
      "source": [
        "## ****Predição para um novo nome****"
      ],
      "metadata": {
        "id": "p1kXM6NwQ1nq"
      }
    },
    {
      "cell_type": "code",
      "source": [
        "classifier = nltk.DecisionTreeClassifier.train(training_set)\n",
        "\n",
        "while True:\n",
        "    name = input(\"Digite um nome: \")\n",
        "    if name == \"sair\":\n",
        "        break\n",
        "    print(\"Previsão para\", name + \":\", classifier.classify(extract_features(name)))"
      ],
      "metadata": {
        "id": "swrZmHONeRaM",
        "colab": {
          "base_uri": "https://localhost:8080/"
        },
        "outputId": "e528c9fe-45c4-4ffb-bef1-cbf8cd96049a"
      },
      "execution_count": null,
      "outputs": [
        {
          "name": "stdout",
          "output_type": "stream",
          "text": [
            "Digite um nome: Anderson\n",
            "Previsão para Anderson: masculino\n",
            "Digite um nome: Vivian\n",
            "Previsão para Vivian: masculino\n",
            "Digite um nome: Lucas\n",
            "Previsão para Lucas: masculino\n",
            "Digite um nome: Diego\n",
            "Previsão para Diego: feminino\n",
            "Digite um nome: sair\n"
          ]
        }
      ]
    },
    {
      "cell_type": "markdown",
      "source": [
        "\n",
        "\n",
        "**Vantagens**\n",
        "\n",
        "* ***Fácil de entender e implementar:*** O Classificador de árvore de decisão é um algoritmo relativamente simples, mas é bastante eficaz em muitos tipos de problemas de classificação. Ele é fácil de entender e de implementar, e pode ser usado para classificar dados de diferentes formatos.\n",
        "\n",
        "* ***Interpretabilidade:*** As árvores de decisão são modelos de caixa branca, o que significa que são fáceis de interpretar. Isso pode ser útil para cientistas de dados que precisam explicar como o modelo chegou às suas conclusões.\n",
        "\n",
        "**Desvantagens**\n",
        "\n",
        "* ***Suscetibilidade ao overfitting:*** As árvores de decisão podem ser suscetíveis ao overfitting, o que pode prejudicar a precisão do modelo em dados novos.\n",
        "\n",
        "* ***Limitações em problemas complexos:*** As árvores de decisão podem ter limitações em problemas complexos, como classificação multi-label.\n"
      ],
      "metadata": {
        "id": "kbnCrrrcH4Wk"
      }
    },
    {
      "cell_type": "markdown",
      "source": [
        "# ***Predição para um novo nome utilizando o algoritmo:*** **NaiveBayesClassifier**\n"
      ],
      "metadata": {
        "id": "Z-hB4KUXdz18"
      }
    },
    {
      "cell_type": "markdown",
      "source": [
        "**Classificador Naive Bayes sob o capô:**\n",
        "\n",
        "* ***Modelo Probabilístico:*** Calcula probabilidades com base no teorema de Bayes para prever classes.\n",
        "* ***Suposição de independência de recursos:*** assume que os recursos são independentes, simplificando os cálculos, mas às vezes levando a imprecisões.\n",
        "* ***Treinamento:*** Aprende probabilidades de características que ocorrem dentro de cada classe (por exemplo, probabilidade de “a” ser a primeira ou ultima letra em nomes femininos).Cada classe no geral (por exemplo, probabilidade de um nome ser feminino).\n",
        "* ***Classificação:*** Prevê a classe com maior probabilidade, dados os recursos de entrada (nome)."
      ],
      "metadata": {
        "id": "PbM7RWcbfvts"
      }
    },
    {
      "cell_type": "code",
      "source": [
        "classifier = nltk.NaiveBayesClassifier.train(training_set)\n",
        "\n",
        "while True:\n",
        "    name = input(\"Digite um nome: \")\n",
        "    if name == \"sair\":\n",
        "        break\n",
        "    print(\"Previsão para\", name + \":\", classifier.classify(extract_features(name)))"
      ],
      "metadata": {
        "colab": {
          "base_uri": "https://localhost:8080/"
        },
        "id": "z7wUFwyggy8X",
        "outputId": "54d5540a-aaba-4330-987d-402a3aa1abff"
      },
      "execution_count": null,
      "outputs": [
        {
          "name": "stdout",
          "output_type": "stream",
          "text": [
            "Digite um nome: Diego\n",
            "Previsão para Diego: masculino\n",
            "Digite um nome: Vivian\n",
            "Previsão para Vivian: feminino\n",
            "Digite um nome: Augusto\n",
            "Previsão para Augusto: masculino\n",
            "Digite um nome: sair\n"
          ]
        }
      ]
    },
    {
      "cell_type": "markdown",
      "source": [
        "**Por que utilizar o NaiveBayesClassifier?**\n",
        "\n",
        "* Ganho em ***accuracy*** em comparação ao algoritmo DecisionTreeClassifier\n",
        "* Inferência mais rápida\n",
        "* O nome `'Vivian'` que estava sendo classificado como `masculino` pelo algoritmo ***DecisionTreeClassifier***, agora está sendo classificado corretamente pelo algoritmo ***NaiveBayesClassifier***\n",
        "* **Têm a possibilidade de mostrar as features mais informativas para classificação**"
      ],
      "metadata": {
        "id": "3u2G817pkRFY"
      }
    },
    {
      "cell_type": "code",
      "source": [
        "classifier.show_most_informative_features(10) # Mostrando as features mais relevantes para cada gênero"
      ],
      "metadata": {
        "colab": {
          "base_uri": "https://localhost:8080/"
        },
        "id": "X21ZDAcug1mq",
        "outputId": "9868611b-40e5-438a-c52b-f0f538ea5fc8"
      },
      "execution_count": null,
      "outputs": [
        {
          "output_type": "stream",
          "name": "stdout",
          "text": [
            "Most Informative Features\n",
            "            ultima_letra = 'a'            femini : mascul =     36.7 : 1.0\n",
            "            ultima_letra = 'k'            mascul : femini =     31.6 : 1.0\n",
            "            ultima_letra = 'f'            mascul : femini =     15.9 : 1.0\n",
            "            ultima_letra = 'p'            mascul : femini =     12.5 : 1.0\n",
            "            ultima_letra = 'd'            mascul : femini =     10.4 : 1.0\n",
            "            ultima_letra = 'v'            mascul : femini =      9.8 : 1.0\n",
            "            ultima_letra = 'm'            mascul : femini =      8.1 : 1.0\n",
            "            ultima_letra = 'o'            mascul : femini =      7.7 : 1.0\n",
            "            ultima_letra = 'r'            mascul : femini =      6.9 : 1.0\n",
            "            ultima_letra = 'w'            mascul : femini =      5.1 : 1.0\n"
          ]
        }
      ]
    }
  ]
}